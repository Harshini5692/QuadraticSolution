{
  "nbformat": 4,
  "nbformat_minor": 0,
  "metadata": {
    "colab": {
      "provenance": [],
      "authorship_tag": "ABX9TyOB/Xbebl6GLhxv1xWu26tB",
      "include_colab_link": true
    },
    "kernelspec": {
      "name": "python3",
      "display_name": "Python 3"
    },
    "language_info": {
      "name": "python"
    }
  },
  "cells": [
    {
      "cell_type": "markdown",
      "metadata": {
        "id": "view-in-github",
        "colab_type": "text"
      },
      "source": [
        "<a href=\"https://colab.research.google.com/github/Harshini5692/QuadraticSolution/blob/main/weather_model_quadratic.ipynb\" target=\"_parent\"><img src=\"https://colab.research.google.com/assets/colab-badge.svg\" alt=\"Open In Colab\"/></a>"
      ]
    },
    {
      "cell_type": "code",
      "source": [
        "def quadratic_weather_prediction(a, b, c, days):\n",
        "    predictions = {}\n",
        "    for x in range(1, days+1):\n",
        "        y = a*(x**2) + b*x + c\n",
        "        predictions[x] = y\n",
        "    return predictions\n",
        "\n",
        "a, b, c = 1, -2, 30\n",
        "days = 7\n",
        "\n",
        "forecast = quadratic_weather_prediction(a, b, c, days)\n",
        "\n",
        "print(\"Weather Forecast (Quadratic Model):\")\n",
        "for day, temp in forecast.items():\n",
        "    print(f\"Day {day}: {temp:.2f} °C\")\n"
      ],
      "metadata": {
        "colab": {
          "base_uri": "https://localhost:8080/"
        },
        "id": "uKhGkIFBtTS1",
        "outputId": "fb9d73a5-f18f-4da2-cb0f-14b441c482da"
      },
      "execution_count": 5,
      "outputs": [
        {
          "output_type": "stream",
          "name": "stdout",
          "text": [
            "Weather Forecast (Quadratic Model):\n",
            "Day 1: 29.00 °C\n",
            "Day 2: 30.00 °C\n",
            "Day 3: 33.00 °C\n",
            "Day 4: 38.00 °C\n",
            "Day 5: 45.00 °C\n",
            "Day 6: 54.00 °C\n",
            "Day 7: 65.00 °C\n"
          ]
        }
      ]
    }
  ]
}