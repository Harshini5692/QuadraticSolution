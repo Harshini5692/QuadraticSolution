{
  "nbformat": 4,
  "nbformat_minor": 0,
  "metadata": {
    "colab": {
      "provenance": [],
      "authorship_tag": "ABX9TyO5hRCPSdNhwTTKetAoOtGn",
      "include_colab_link": true
    },
    "kernelspec": {
      "name": "python3",
      "display_name": "Python 3"
    },
    "language_info": {
      "name": "python"
    }
  },
  "cells": [
    {
      "cell_type": "markdown",
      "metadata": {
        "id": "view-in-github",
        "colab_type": "text"
      },
      "source": [
        "<a href=\"https://colab.research.google.com/github/Harshini5692/QuadraticSolution/blob/main/weather_model_quadratic.ipynb\" target=\"_parent\"><img src=\"https://colab.research.google.com/assets/colab-badge.svg\" alt=\"Open In Colab\"/></a>"
      ]
    },
    {
      "cell_type": "code",
      "execution_count": 3,
      "metadata": {
        "colab": {
          "base_uri": "https://localhost:8080/"
        },
        "id": "uE5QgFiFk3T6",
        "outputId": "dd90906c-81f7-464a-c212-5360d21febde"
      },
      "outputs": [
        {
          "output_type": "stream",
          "name": "stdout",
          "text": [
            "Weather Forecast (Quadratic Model):\n",
            "Day 1: 29.00 °C\n",
            "Day 2: 30.00 °C\n",
            "Day 3: 33.00 °C\n",
            "Day 4: 38.00 °C\n",
            "Day 5: 45.00 °C\n",
            "Day 6: 54.00 °C\n",
            "Day 7: 65.00 °C\n"
          ]
        }
      ],
      "source": [
        "def quadratic_weather_prediction(a, b, c, days):\n",
        "    predictions = {}\n",
        "    for x in range(1, days+1):\n",
        "        y = a*(x**2) + b*x + c\n",
        "        predictions[x] = y\n",
        "    return predictions\n",
        "\n",
        "# Example run\n",
        "a, b, c = 1, -2, 30  # coefficients\n",
        "days = 7\n",
        "forecast = quadratic_weather_prediction(a, b, c, days)\n",
        "\n",
        "print(\"Weather Forecast (Quadratic Model):\")\n",
        "for day, temp in forecast.items():\n",
        "    print(f\"Day {day}: {temp:.2f} °C\")\n"
      ]
    },
    {
      "cell_type": "code",
      "metadata": {
        "id": "6e3b47dc"
      },
      "source": [],
      "execution_count": null,
      "outputs": []
    }
  ]
}